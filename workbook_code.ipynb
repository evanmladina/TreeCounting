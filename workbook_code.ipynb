{
 "cells": [
  {
   "cell_type": "code",
   "execution_count": 1,
   "id": "ef5faed4",
   "metadata": {},
   "outputs": [],
   "source": [
    "import sys\n",
    "sys.path.append('src/')\n",
    "\n",
    "import TreeAnnotations\n",
    "import NEONImageDataAndDownload\n",
    "import MakeNeonYoloAppropriate\n",
    "from path import Path\n"
   ]
  },
  {
   "cell_type": "code",
   "execution_count": 2,
   "id": "f858a4f1",
   "metadata": {},
   "outputs": [],
   "source": [
    "# Some globals\n",
    "\n",
    "site = \"YELL\"\n",
    "year = \"2019\"\n",
    "year_month = \"2019-07\"\n",
    "geosite = [\"535000_4971000\"]\n",
    "\n",
    "numberOfImagesToDownload = 1\n",
    "train_proportion = 0.7\n",
    "valid_proportion = 0.2\n",
    "test_proportion = 0.1\n",
    "maximumTotalCount = 1000\n",
    "\n",
    "defaultCSVDropPath = Path(\"data\\\\\")\n"
   ]
  },
  {
   "cell_type": "code",
   "execution_count": 3,
   "id": "80492e50",
   "metadata": {},
   "outputs": [],
   "source": [
    "# preliminary directory setup\n",
    "MakeNeonYoloAppropriate.setup_yolo_directories()"
   ]
  },
  {
   "cell_type": "code",
   "execution_count": 6,
   "id": "e8d4afa1",
   "metadata": {},
   "outputs": [],
   "source": [
    "# get CSV data\n",
    "TreeAnnotations.downloadAnnotation(site, defaultCSVDropPath/ f\"{site.upper()}.csv\")"
   ]
  },
  {
   "cell_type": "code",
   "execution_count": null,
   "id": "979ec2f9",
   "metadata": {},
   "outputs": [],
   "source": [
    "#download images\n",
    "imageListEndpoint = NEONImageDataAndDownload.make_data_endpoint(site, year_month)\n",
    "NEONImageDataAndDownload.download_n_images(imageListEndpoint, numberOfImagesToDownload, \"data\\\\images\")\n"
   ]
  },
  {
   "cell_type": "code",
   "execution_count": 6,
   "id": "af0abfce",
   "metadata": {
    "scrolled": true
   },
   "outputs": [],
   "source": [
    "# select training and validation annotations based on images downloaded\n",
    "bounding_boxes = MakeNeonYoloAppropriate.get_all_bounding_boxes_for_downloaded_tifs_as_list()\n",
    "train_boxes, valid_boxes, test_boxes = MakeNeonYoloAppropriate.split_list_to_train_valid_test(bounding_boxes, train_proportion, valid_proportion, test_proportion, maximumTotalCount)\n",
    "\n"
   ]
  },
  {
   "cell_type": "code",
   "execution_count": null,
   "id": "08283a34",
   "metadata": {},
   "outputs": [],
   "source": [
    "MakeNeonYoloAppropriate.standardize_box_and_write_to_output_path(train_boxes, 'data\\\\labels\\\\train\\\\')"
   ]
  },
  {
   "cell_type": "code",
   "execution_count": null,
   "id": "4902a0e8",
   "metadata": {},
   "outputs": [],
   "source": [
    "MakeNeonYoloAppropriate.convert_all_tif_to_jpg_and_place()"
   ]
  }
 ],
 "metadata": {
  "kernelspec": {
   "display_name": "Python 3",
   "language": "python",
   "name": "python3"
  },
  "language_info": {
   "codemirror_mode": {
    "name": "ipython",
    "version": 3
   },
   "file_extension": ".py",
   "mimetype": "text/x-python",
   "name": "python",
   "nbconvert_exporter": "python",
   "pygments_lexer": "ipython3",
   "version": "3.8.8"
  }
 },
 "nbformat": 4,
 "nbformat_minor": 5
}
